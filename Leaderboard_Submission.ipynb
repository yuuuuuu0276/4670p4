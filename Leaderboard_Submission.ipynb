{
  "nbformat": 4,
  "nbformat_minor": 0,
  "metadata": {
    "kernelspec": {
      "display_name": "Python 3",
      "language": "python",
      "name": "python3"
    },
    "language_info": {
      "codemirror_mode": {
        "name": "ipython",
        "version": 3
      },
      "file_extension": ".py",
      "mimetype": "text/x-python",
      "name": "python",
      "nbconvert_exporter": "python",
      "pygments_lexer": "ipython3",
      "version": "3.7.4"
    },
    "name": "Testing.ipynb",
    "colab": {
      "name": "Leaderboard_Submission.ipynb",
      "provenance": []
    }
  },
  "cells": [
    {
      "cell_type": "markdown",
      "metadata": {
        "id": "mJBXC3Kpok7p"
      },
      "source": [
        "# Creating a Leaderboard Submission File\n",
        "\n",
        "In this notebook, we will:\n",
        "- define a DataLoader that reads from the `test_unlabeled` directory\n",
        "- loads your model weights\n",
        "- makes predictions\n",
        "- saves to a csv file which you can upload to the Leaderboard submission\n",
        "\n",
        "## <font color=\"red\"> TODO</font>\n",
        "In the following cell, fill in:\n",
        "1. `MODEL_NAME` with your model filename, under the `models` folder (for example if you named your model `my_model.pth`, just write `MODEL_NAME = my_model.pth` **not** the full path such as ./models/my_model.pth)\n",
        "\n",
        "2. `CSV_NAME` with the filename you would like to save your predictions to (must be a CSV file, for example `my_predictions.csv`)"
      ]
    },
    {
      "cell_type": "code",
      "metadata": {
        "id": "iaifEj5tok7w"
      },
      "source": [
        "MODEL_NAME = 'your_model_name.pth'\n",
        "\n",
        "CSV_NAME = 'predictions.csv' # feel free to replace with desired CSV filename"
      ],
      "execution_count": null,
      "outputs": []
    },
    {
      "cell_type": "code",
      "metadata": {
        "autoscroll": false,
        "ein.tags": "worksheet-0",
        "id": "eTtf0lGhok7w"
      },
      "source": [
        "%load_ext autoreload\n",
        "%autoreload 1\n",
        "%matplotlib inline\n",
        "%aimport student\n",
        "\n",
        "import os\n",
        "from skimage import io\n",
        "import pandas as pd\n",
        "import numpy as np\n",
        "\n",
        "import torch\n",
        "import torch.nn as nn\n",
        "import torch.optim as optim\n",
        "import torch.nn.functional as F\n",
        "from torch.utils.data import DataLoader, Dataset\n",
        "from torchvision import transforms, datasets\n",
        "\n",
        "classes = [\n",
        "     'bighorn-sheep',\n",
        "     'bison',\n",
        "     'black-stork',\n",
        "     'brown-bear',\n",
        "     'bullfrog',\n",
        "     'camel',\n",
        "     'gazelle',\n",
        "     'golden-retriever',\n",
        "     'goldfish',\n",
        "     'ladybug',\n",
        "     'lion',\n",
        "     'orangutan',\n",
        "     'penguin',\n",
        "     'persian-cat',\n",
        "     'pig',\n",
        "     'puma'\n",
        "]"
      ],
      "execution_count": null,
      "outputs": []
    },
    {
      "cell_type": "code",
      "metadata": {
        "autoscroll": false,
        "ein.tags": "worksheet-0",
        "id": "aZ5_XWbDok7x"
      },
      "source": [
        "class AnimalDatasetTest(Dataset):\n",
        "    def __init__(self, root_dir, transform=None):\n",
        "        \"\"\"\n",
        "        Dataloader for test set, where there are no labels\n",
        "        Args:\n",
        "            root_dir (string):\n",
        "                Directory with all the images.\n",
        "                Of the form:\n",
        "                    <XXXX>.JPEG\n",
        "                    <XXXX>.JPEG\n",
        "                        ...\n",
        "                where <XXXX>.JPEG are the images. Must be .JPEG extension.\n",
        "                \n",
        "            transform (callable, optional): Optional transform to be applied\n",
        "                on a sample.\n",
        "                \n",
        "        \"\"\"\n",
        "        self.root_dir = root_dir\n",
        "        self.transform = transform\n",
        "\n",
        "        self.raw_data = []\n",
        " \n",
        "        for root, directory, files in os.walk(root_dir):\n",
        "            for file in files:\n",
        "                if '.JPEG' in file:\n",
        "                    self.raw_data.append(os.path.join(root, file))\n",
        "\n",
        "    def __len__(self):\n",
        "        return len(self.raw_data)\n",
        "\n",
        "    def __getitem__(self, idx):\n",
        "        if type(idx) == torch.Tensor:\n",
        "            idx = idx.item()\n",
        "        \n",
        "        image_path = self.raw_data[idx]\n",
        "        image = io.imread(image_path)\n",
        "        image = self.transform(image)\n",
        "        ID = image_path.split(os.sep)[-1].split('.JPEG')[0]\n",
        "        ID = int(ID)\n",
        "        \n",
        "        return image, ID #label"
      ],
      "execution_count": null,
      "outputs": []
    },
    {
      "cell_type": "markdown",
      "metadata": {
        "id": "MZ8Mg29Iok7x"
      },
      "source": [
        "#### Loading the Test Data####\n",
        "Before running the following cell, please check that you have the test data from gradescope and it is in the data folder. You can download the test data from the **Leaderboard** submission entry on gradescope."
      ]
    },
    {
      "cell_type": "code",
      "metadata": {
        "autoscroll": false,
        "ein.tags": "worksheet-0",
        "id": "gKdvAVo1ok7x"
      },
      "source": [
        "dataset_means = [123./255., 116./255.,  97./255.]\n",
        "dataset_stds  = [ 54./255.,  53./255.,  52./255.]\n",
        "\n",
        "\n",
        "transform = transforms.Compose([\n",
        "            transforms.ToPILImage(),\n",
        "            transforms.ToTensor(),\n",
        "            transforms.Normalize(dataset_means, dataset_stds)\n",
        "        ])\n",
        "\n",
        "batch_size = 1\n",
        "\n",
        "test_dataset    = AnimalDatasetTest(os.path.join('data', 'test_unlabeled'), transform=transform)\n",
        "test_dataloader = DataLoader(test_dataset, batch_size=batch_size, shuffle=False)\n",
        "print(len(test_dataset))"
      ],
      "execution_count": null,
      "outputs": []
    },
    {
      "cell_type": "code",
      "metadata": {
        "autoscroll": false,
        "ein.tags": "worksheet-0",
        "id": "y_xeX0ZWok7y"
      },
      "source": [
        "%aimport student\n",
        "\n",
        "net = student.AnimalStudentNet()\n",
        "\n",
        "weights_path = os.path.join('.', 'models', MODEL_NAME)\n",
        "net.load_state_dict(torch.load(weights_path, map_location=\"cpu\"))"
      ],
      "execution_count": null,
      "outputs": []
    },
    {
      "cell_type": "code",
      "metadata": {
        "autoscroll": false,
        "ein.tags": "worksheet-0",
        "id": "yZpdOwzUok7y"
      },
      "source": [
        "# Sample submission file\n",
        "with torch.no_grad():\n",
        "    arr = np.zeros((len(test_dataset), 2))\n",
        "    df_submission = pd.DataFrame(arr, columns=['Id', 'Category'])\n",
        "    net.eval()\n",
        "\n",
        "    for image, ID in test_dataloader:\n",
        "        # ID is row in Leaderboard CSV submission file\n",
        "        ID = ID.numpy()[0]\n",
        "        output  = net(image)\n",
        "        # Prediction is class with highest class score\n",
        "        _, pred = torch.max(output, 1)\n",
        "        pred = pred.numpy()[0]\n",
        "        # Put prediction in corresponding row of Dataframe\n",
        "        df_submission.iloc[ID, 0] = ID\n",
        "        df_submission.iloc[ID, 1] = int(pred)\n",
        "\n",
        "    # Create csv with predictions to upload to Leaderboard\n",
        "    df_submission.Id       = df_submission.Id.astype(int)\n",
        "    df_submission.Category = df_submission.Category.astype(int)\n",
        "    df_submission.to_csv(CSV_NAME, index=False)\n"
      ],
      "execution_count": null,
      "outputs": []
    }
  ]
}